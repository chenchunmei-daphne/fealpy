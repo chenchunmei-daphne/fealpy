{
 "cells": [
  {
   "cell_type": "markdown",
   "id": "872f14c1",
   "metadata": {},
   "source": [
    "\n",
    "# 有限差分算例- Elliptic 方程求解\n",
    "\n",
    "本节将引导您使用 FEALPy 完成 Elliptic 方程的有差分求解，现定义如下数学模型：\n",
    "\n",
    "$$\n",
    "\\begin{cases}\n",
    "-\\nabla (A \\nabla u) + b \\nabla u + c u = f & \\text{在 } \\Omega = [0,1]^2 \\\\\n",
    "u = g & \\text{在 } \\partial \\Omega\n",
    "\\end{cases}\n",
    "$$\n",
    "\n",
    "其中我们定义真解为：\n",
    "\n",
    "$$\n",
    "u(x, y) = \\sin(\\pi x) \\sin(\\pi y)\n",
    "$$\n",
    "\n",
    "源项为：\n",
    "\n",
    "$$\n",
    "f(x,y) = (5\\pi^2 + 4)\\sin(\\pi x) \\sin(\\pi y) + \\pi \\cos(\\pi x) \\sin(\\pi y) - \\pi \\sin(\\pi x) \\cos(\\pi y)\n",
    "$$\n",
    "\n",
    "系数为：\n",
    "\n",
    "$$\n",
    "A = \\begin{pmatrix}\n",
    "2 & 0 \\\\\n",
    "0 & 3\n",
    "\\end{pmatrix}, \\quad\n",
    "b = \\begin{pmatrix}\n",
    "1 \\\\\n",
    "-1\n",
    "\\end{pmatrix}, \\quad\n",
    "c = 4\n",
    "$$\n"
   ]
  },
  {
   "cell_type": "markdown",
   "id": "b1772e1e",
   "metadata": {},
   "source": [
    "### 1. 定义 PDE 模型"
   ]
  },
  {
   "cell_type": "code",
   "execution_count": 1,
   "id": "033f265b",
   "metadata": {},
   "outputs": [],
   "source": [
    "from fealpy.backend import backend_manager as bm\n",
    "from fealpy.decorator import cartesian\n",
    "\n",
    "# 定义域\n",
    "def domain():\n",
    "    return [0, 1, 0, 1]\n",
    "\n",
    "# 扩散项系数 A\n",
    "def diffusion_coef():\n",
    "    A = bm.tensor([[2.0, 0.0], [0.0, 3.0]])\n",
    "    return A \n",
    "\n",
    "# 对流项系数 b\n",
    "def convection_coef():\n",
    "    b = bm.tensor([1.0, -1.0])\n",
    "    return b\n",
    "\n",
    "# 反应项系数 c\n",
    "def reaction_coef():\n",
    "    return 4.0\n",
    "\n",
    "# 真解\n",
    "@cartesian\n",
    "def solution(p):\n",
    "    x = p[..., 0]\n",
    "    y = p[..., 1]\n",
    "    pi = bm.pi\n",
    "    val = bm.sin(pi*x)*bm.sin(pi*y)\n",
    "    return val\n",
    "\n",
    "# 源项\n",
    "@cartesian\n",
    "def source(p):\n",
    "    x = p[..., 0]\n",
    "    y = p[..., 1]\n",
    "    pi = bm.pi\n",
    "    sin = bm.sin\n",
    "    cos = bm.cos\n",
    "    term1 = (5*pi**2 + 4) * sin(pi*x) * sin(pi*y)\n",
    "    term2 = pi * cos(pi*x) * sin(pi*y)\n",
    "    term3 = -pi * sin(pi*x) * cos(pi*y)\n",
    "    val = term1 + term2 + term3\n",
    "    return val\n",
    "\n",
    "# dirichlet 边界条件\n",
    "@cartesian\n",
    "def dirichlet(p):\n",
    "    return solution(p)"
   ]
  },
  {
   "cell_type": "markdown",
   "id": "61f2bb4b",
   "metadata": {},
   "source": [
    "### 2. 进行参数配置和初始化"
   ]
  },
  {
   "cell_type": "markdown",
   "id": "b21ef822",
   "metadata": {},
   "source": [
    "设置后端"
   ]
  },
  {
   "cell_type": "code",
   "execution_count": 2,
   "id": "659c3030",
   "metadata": {},
   "outputs": [],
   "source": [
    "from fealpy.backend import backend_manager as bm\n",
    "\n",
    "backend = 'numpy'\n",
    "device = 'cpu'\n",
    "bm.set_backend(backend)"
   ]
  },
  {
   "cell_type": "markdown",
   "id": "11a19ecf",
   "metadata": {},
   "source": [
    "导入日志工具"
   ]
  },
  {
   "cell_type": "code",
   "execution_count": 3,
   "id": "87abcd6b",
   "metadata": {},
   "outputs": [],
   "source": [
    "from fealpy.utils import timer\n",
    "from fealpy import logger\n",
    "\n",
    "logger.setLevel('WARNING')\n",
    "tmr = timer()\n",
    "next(tmr)"
   ]
  },
  {
   "cell_type": "markdown",
   "id": "6860cf10",
   "metadata": {},
   "source": [
    "设置初始网格和加密次数"
   ]
  },
  {
   "cell_type": "code",
   "execution_count": 4,
   "id": "36fc786f",
   "metadata": {},
   "outputs": [],
   "source": [
    "from fealpy.mesh import UniformMesh\n",
    "\n",
    "mesh = UniformMesh(domain=domain(), extent=[0, 5, 0, 5])\n",
    "maxit = 4"
   ]
  },
  {
   "cell_type": "markdown",
   "id": "b1004765",
   "metadata": {},
   "source": [
    "定义误差存储矩阵"
   ]
  },
  {
   "cell_type": "code",
   "execution_count": 5,
   "id": "a67b7149",
   "metadata": {},
   "outputs": [],
   "source": [
    "errorMatrix = bm.zeros((1, maxit), dtype=bm.float64)"
   ]
  },
  {
   "cell_type": "markdown",
   "id": "49f8b9e3",
   "metadata": {},
   "source": [
    "### 3. 有限差分求解"
   ]
  },
  {
   "cell_type": "markdown",
   "id": "580f9eb2",
   "metadata": {},
   "source": [
    "流程包含：\n",
    "\n",
    "(1)从离散格式组装刚度矩阵 $A$ 和载荷向量 $F$\n",
    "\n",
    "(2)处理 Dirichlet 边界条件\n",
    "\n",
    "(3)求解线性系统 $A u_h = F$\n",
    "\n",
    "(4)计算L2误差 $\\|u - u_h\\|_{L^2(\\Omega)}$\n",
    "\n",
    "(5)网格均匀加密\n"
   ]
  },
  {
   "cell_type": "code",
   "execution_count": 6,
   "id": "f22086a0",
   "metadata": {},
   "outputs": [],
   "source": [
    "from fealpy.fdm import DiffusionOperator, ConvectionOperator, ReactionOperator, DirichletBC\n",
    "from fealpy.solver import spsolve\n",
    "\n",
    "for i in range(maxit):\n",
    "    D = DiffusionOperator(mesh, diffusion_coef=diffusion_coef).assembly()\n",
    "    C = ConvectionOperator(mesh, convection_coef=convection_coef).assembly()\n",
    "    R = ReactionOperator(mesh, reaction_coef=reaction_coef).assembly()\n",
    "    A = D + C + R\n",
    "\n",
    "    node = mesh.entity(\"node\")\n",
    "    F = source(node)\n",
    "    tmr.send(f'第{i}次矩阵组装时间')\n",
    "\n",
    "    A, F = DirichletBC(mesh=mesh, gd=dirichlet).apply(A, F)\n",
    "    tmr.send(f'第{i}次边界处理时间')\n",
    "\n",
    "    uh = spsolve(A, F)\n",
    "    tmr.send(f'第{i}次求解器时间')\n",
    "    errorMatrix[0, i] = mesh.error(solution, uh, errortype='L2')\n",
    "    if i < maxit-1:\n",
    "        mesh.uniform_refine(n=1)\n",
    "    tmr.send(f'第{i}次误差计算及网格加密时间')"
   ]
  },
  {
   "cell_type": "markdown",
   "id": "3025b83b",
   "metadata": {},
   "source": [
    "### 4. 误差分析和收敛阶计算"
   ]
  },
  {
   "cell_type": "code",
   "execution_count": 7,
   "id": "dfd6b398",
   "metadata": {},
   "outputs": [
    {
     "name": "stdout",
     "output_type": "stream",
     "text": [
      "Timer received None and paused.\n",
      "=================================================\n",
      "   ID       Time        Proportion(%)    Label\n",
      "-------------------------------------------------\n",
      "    1     26.537 [ms]           4.565    第0次矩阵组装时间\n",
      "    2    264.883 [us]           0.046    第0次边界处理时间\n",
      "    3    538.813 [ms]          92.685    第0次求解器时间\n",
      "    4    309.229 [us]           0.053    第0次误差计算及网格加密时间\n",
      "    5      2.499 [ms]           0.430    第1次矩阵组装时间\n",
      "    6    297.308 [us]           0.051    第1次边界处理时间\n",
      "    7    821.352 [us]           0.141    第1次求解器时间\n",
      "    8    172.615 [us]           0.030    第1次误差计算及网格加密时间\n",
      "    9      1.814 [ms]           0.312    第2次矩阵组装时间\n",
      "   10    278.234 [us]           0.048    第2次边界处理时间\n",
      "   11      1.426 [ms]           0.245    第2次求解器时间\n",
      "   12    193.834 [us]           0.033    第2次误差计算及网格加密时间\n",
      "   13      3.509 [ms]           0.604    第3次矩阵组装时间\n",
      "   14    392.199 [us]           0.067    第3次边界处理时间\n",
      "   15      3.950 [ms]           0.679    第3次求解器时间\n",
      "   16     63.181 [us]           0.011    第3次误差计算及网格加密时间\n",
      "=================================================\n",
      "最终误差 [[0.00298339 0.00531285 0.00363034 0.00206084]]\n",
      "order :  [0.56154201 1.46345801 1.76157855]\n"
     ]
    }
   ],
   "source": [
    "next(tmr)\n",
    "print(\"最终误差\",errorMatrix)\n",
    "print(\"order : \", errorMatrix[0,:-1]/errorMatrix[0,1:])"
   ]
  },
  {
   "cell_type": "markdown",
   "id": "fb855361",
   "metadata": {},
   "source": [
    "### 5. 结果可视化\n",
    "在单元重心处计算真解和数值解，并进行可视化比较"
   ]
  },
  {
   "cell_type": "code",
   "execution_count": 9,
   "id": "11faca28",
   "metadata": {},
   "outputs": [
    {
     "data": {
      "image/png": "[encoded data removed]",
      "text/plain": [
       "<Figure size 640x480 with 2 Axes>"
      ]
     },
     "metadata": {},
     "output_type": "display_data"
    }
   ],
   "source": [
    "from matplotlib import pyplot as plt\n",
    "\n",
    "node = mesh.entity('node')\n",
    "u = solution(node)\n",
    "\n",
    "fig, axes = plt.subplots(1, 2)\n",
    "mesh.add_plot(axes[0], cellcolor=u, linewidths=0)\n",
    "axes[0].set_title('真解', fontname='Microsoft YaHei')\n",
    "mesh.add_plot(axes[1], cellcolor=uh, linewidths=0)\n",
    "axes[1].set_title('数值解', fontname='Microsoft YaHei')\n",
    "plt.show()"
   ]
  },
  {
   "cell_type": "code",
   "execution_count": null,
   "id": "2e488b0f",
   "metadata": {},
   "outputs": [],
   "source": []
  }
 ],
 "metadata": {
  "kernelspec": {
   "display_name": "da_venv (3.10.12)",
   "language": "python",
   "name": "python3"
  },
  "language_info": {
   "codemirror_mode": {
    "name": "ipython",
    "version": 3
   },
   "file_extension": ".py",
   "mimetype": "text/x-python",
   "name": "python",
   "nbconvert_exporter": "python",
   "pygments_lexer": "ipython3",
   "version": "3.10.12"
  }
 },
 "nbformat": 4,
 "nbformat_minor": 5
}
